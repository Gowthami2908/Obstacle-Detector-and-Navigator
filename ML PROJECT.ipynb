{
 "cells": [
  {
   "cell_type": "code",
   "execution_count": 1,
   "id": "ff747bf5",
   "metadata": {},
   "outputs": [],
   "source": [
    "import urllib.request\n",
    "import tarfile\n",
    "import os\n",
    "\n",
    "def download_and_extract_model(model_url, model_dir):\n",
    "    if not os.path.exists(model_dir):\n",
    "        urllib.request.urlretrieve(model_url, \"model.tar.gz\")\n",
    "        with tarfile.open(\"model.tar.gz\", 'r:gz') as tar:\n",
    "            tar.extractall(path=model_dir)\n",
    "\n",
    "MODEL_URL = 'http://download.tensorflow.org/models/object_detection/ssd_mobilenet_v2_coco_2018_03_29.tar.gz'\n",
    "MODEL_DIR = 'ssd_mobilenet_v2_coco_2018_03_29'\n",
    "download_and_extract_model(MODEL_URL, MODEL_DIR)\n"
   ]
  },
  {
   "cell_type": "code",
   "execution_count": 2,
   "id": "35729ae1",
   "metadata": {},
   "outputs": [
    {
     "name": "stdout",
     "output_type": "stream",
     "text": [
      "INFO:tensorflow:Saver not created because there are no variables in the graph to restore\n"
     ]
    }
   ],
   "source": [
    "import tensorflow as tf\n",
    "\n",
    "# Load the pre-trained model\n",
    "model = tf.saved_model.load(os.path.join(MODEL_DIR, 'saved_model'))\n",
    "\n",
    "# Get the inference function\n",
    "infer = model.signatures['serving_default']\n"
   ]
  },
  {
   "cell_type": "code",
   "execution_count": 3,
   "id": "56deb286",
   "metadata": {},
   "outputs": [],
   "source": [
    "import numpy as np\n",
    "import cv2\n",
    "import pyttsx3\n",
    "from threading import Thread\n",
    "\n",
    "# Initialize text-to-speech engine\n",
    "engine = pyttsx3.init()\n",
    "\n",
    "# Function to perform object detection on a frame\n",
    "def detect_objects(frame, infer):\n",
    "    # Resize frame to reduce processing time\n",
    "    frame_resized = cv2.resize(frame, (300, 300))\n",
    "    # Convert the frame to RGB\n",
    "    frame_rgb = cv2.cvtColor(frame_resized, cv2.COLOR_BGR2RGB)\n",
    "    # Convert the frame to tensor\n",
    "    input_tensor = tf.convert_to_tensor(frame_rgb)\n",
    "    input_tensor = input_tensor[tf.newaxis, ...]\n",
    "    # Perform inference\n",
    "    detections = infer(input_tensor)\n",
    "    # Extract detection data\n",
    "    boxes = detections['detection_boxes'][0].numpy()\n",
    "    scores = detections['detection_scores'][0].numpy()\n",
    "    classes = detections['detection_classes'][0].numpy().astype(np.int64)\n",
    "    return boxes, scores, classes\n",
    "\n",
    "# Function to visualize detected objects\n",
    "def visualize_detection(frame, boxes, scores, classes, threshold=0.5):\n",
    "    for i in range(len(scores)):\n",
    "        if scores[i] > threshold:\n",
    "            box = boxes[i]\n",
    "            ymin, xmin, ymax, xmax = box\n",
    "            left, right, top, bottom = int(xmin * frame.shape[1]), int(xmax * frame.shape[1]), int(ymin * frame.shape[0]), int(ymax * frame.shape[0])\n",
    "            cv2.rectangle(frame, (left, top), (right, bottom), (0, 255, 0), 2)\n",
    "    return frame\n",
    "\n",
    "# Function to navigate based on detected obstacles and display message\n",
    "def navigate_and_display_message(frame, boxes, scores, threshold=0.5):\n",
    "    message = \"Path is clear! Move forward.\"\n",
    "\n",
    "    for i in range(len(scores)):\n",
    "        if scores[i] > threshold:\n",
    "            box = boxes[i]\n",
    "            xmin = box[1]\n",
    "            if xmin < 0.33:\n",
    "                message = \"Obstacle detected on the left! Please move right.\"\n",
    "            elif xmin > 0.66:\n",
    "                message = \"Obstacle detected on the right! Please move left.\"\n",
    "            else:\n",
    "                message = \"Obstacle detected in the center! Please stop or change direction.\"\n",
    "            break\n",
    "\n",
    "    # Display the message on the frame\n",
    "    cv2.putText(frame, message, (10, 30), cv2.FONT_HERSHEY_SIMPLEX, 1, (0, 0, 255), 2, cv2.LINE_AA)\n",
    "\n",
    "    # Speak the message\n",
    "    engine.say(message)\n",
    "    engine.runAndWait()\n",
    "\n",
    "    return frame\n"
   ]
  },
  {
   "cell_type": "code",
   "execution_count": null,
   "id": "de8f3dfb",
   "metadata": {},
   "outputs": [
    {
     "data": {
      "application/vnd.jupyter.widget-view+json": {
       "model_id": "ac915821030646898f45b286174de536",
       "version_major": 2,
       "version_minor": 0
      },
      "text/plain": [
       "Image(value=b'', format='jpeg')"
      ]
     },
     "metadata": {},
     "output_type": "display_data"
    }
   ],
   "source": [
    "from IPython.display import display\n",
    "import ipywidgets as widgets\n",
    "import time\n",
    "\n",
    "class VideoStreamWidget:\n",
    "    def __init__(self, src=0):\n",
    "        self.capture = cv2.VideoCapture(src)\n",
    "        self.status, self.frame = self.capture.read()\n",
    "        self.thread = Thread(target=self.update, args=())\n",
    "        self.thread.daemon = True\n",
    "        self.thread.start()\n",
    "\n",
    "    def update(self):\n",
    "        while True:\n",
    "            if self.capture.isOpened():\n",
    "                self.status, self.frame = self.capture.read()\n",
    "                time.sleep(0.01)\n",
    "\n",
    "    def show_frame(self):\n",
    "        frame = self.frame.copy()\n",
    "        # Process only if the frame is valid\n",
    "        if frame is not None:\n",
    "            boxes, scores, classes = detect_objects(frame, infer)\n",
    "            frame_with_detections = visualize_detection(frame, boxes, scores, classes)\n",
    "            frame_with_message = navigate_and_display_message(frame_with_detections, boxes, scores)\n",
    "            _, jpeg = cv2.imencode('.jpg', frame_with_message)\n",
    "            return jpeg.tobytes()\n",
    "        return None\n",
    "\n",
    "# Create an image widget for display\n",
    "image_widget = widgets.Image(format='jpeg')\n",
    "display(image_widget)\n",
    "\n",
    "video_stream_widget = VideoStreamWidget()\n",
    "\n",
    "try:\n",
    "    while True:\n",
    "        frame_bytes = video_stream_widget.show_frame()\n",
    "        if frame_bytes:\n",
    "            image_widget.value = frame_bytes\n",
    "        time.sleep(0.01)  # Adjust the sleep time to control the refresh rate\n",
    "except KeyboardInterrupt:\n",
    "    pass\n",
    "finally:\n",
    "    video_stream_widget.capture.release()\n"
   ]
  },
  {
   "cell_type": "code",
   "execution_count": null,
   "id": "6fb19e5d",
   "metadata": {},
   "outputs": [],
   "source": []
  }
 ],
 "metadata": {
  "kernelspec": {
   "display_name": "Python 3 (ipykernel)",
   "language": "python",
   "name": "python3"
  },
  "language_info": {
   "codemirror_mode": {
    "name": "ipython",
    "version": 3
   },
   "file_extension": ".py",
   "mimetype": "text/x-python",
   "name": "python",
   "nbconvert_exporter": "python",
   "pygments_lexer": "ipython3",
   "version": "3.10.9"
  }
 },
 "nbformat": 4,
 "nbformat_minor": 5
}
